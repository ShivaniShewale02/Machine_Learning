{
 "cells": [
  {
   "cell_type": "markdown",
   "metadata": {},
   "source": [
    "# Encoding \n",
    "- Encoding is the process of converting categorical data (non-numerical data, such as labels or text) into numerical format so that it can be used by machine learning models, which require numerical inputs to perform mathematical computations.\n",
    "\n",
    "### For example:\n",
    "- Converting categories like \"Male\" and \"Female\" into numerical values like 0 and 1.\n",
    "- Transforming a column with country names (\"India\", \"USA\", \"France\") into numeric representations."
   ]
  },
  {
   "cell_type": "markdown",
   "metadata": {},
   "source": [
    "## Types Of Encoding \n",
    "\n",
    "| **Encoding Method**      | **Discription**                                                               |\n",
    "| ------------------------ | -------------------------------------------------------------------------- |\n",
    "| Label Encoding           | Each category is assigned a unique integer. & Converts categorical data into numbers.       |\n",
    "| One-Hot Encoding         | Converts each category into a separate binary column (1 if the category is present, 0 otherwise).   |\n",
    "| Ordinal Encoding         | Maps categories to integers based on their order.                              |\n",
    "| Target Encoding          | Replaces categories with the mean of the target variable for each category. |\n",
    "| Frequency/Count Encoding | Replaces categories with their frequency or count in the dataset.                      |\n",
    "| Binary Encoding          | Converts categories into binary format and represents them as columns.                   |\n"
   ]
  },
  {
   "cell_type": "markdown",
   "metadata": {},
   "source": [
    "- fit_transform() is for encoding.\n",
    "- inverse_transform() is for decoding"
   ]
  }
 ],
 "metadata": {
  "language_info": {
   "name": "python"
  }
 },
 "nbformat": 4,
 "nbformat_minor": 2
}
