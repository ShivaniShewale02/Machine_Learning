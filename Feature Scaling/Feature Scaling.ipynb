{
 "cells": [
  {
   "cell_type": "markdown",
   "id": "c106df7f",
   "metadata": {},
   "source": [
    "# Feature Scaling"
   ]
  },
  {
   "cell_type": "markdown",
   "id": "d3a4b9e8",
   "metadata": {},
   "source": [
    "- Feature scaling is the process of standardizing or normalizing the range of independent variables (features) in a dataset. \n",
    "- It is important in machine learning because many models are sensitive to the scale of the data, and scaling ensures that no feature dominates others due to differences in magnitude.\n",
    "- Feature Scaling does not change the nature of the data & its magnitude gets reduces and patern gets changes.\n",
    "- Scaling does not have any effect on outliers as their value just got compressed not removed "
   ]
  },
  {
   "cell_type": "markdown",
   "id": "5e5a34e4",
   "metadata": {},
   "source": [
    "### Why is Feature Scaling Important?\n",
    "\n",
    "- Improves Model Accuracy\n",
    "- Faster Convergence in Gradient Descent\n",
    "- Equal Contribution of Features"
   ]
  },
  {
   "cell_type": "markdown",
   "id": "3526aba0",
   "metadata": {},
   "source": [
    "### Types of Feature Scaling"
   ]
  },
  {
   "cell_type": "markdown",
   "id": "43a0ad2f",
   "metadata": {},
   "source": [
    "##### 1. Normalization (Min-Max Scaling)\n",
    "- Normalization transforms data to fit within a specified range, typically between 0 and 1.\n",
    "- Formula: X′ = X−Xmin/Xmax −Xmin​\n",
    "- Where: \n",
    "- X is the original feature value.\n",
    "- Xmin is the minimum value of the feature.\n",
    "- Xmax is the maximum value of the feature.\n",
    "- X′ is the normalized value, which will now fall within the range [0, 1]."
   ]
  },
  {
   "cell_type": "markdown",
   "id": "759dc380",
   "metadata": {},
   "source": [
    "##### 2. Standardization (Z-score Normalization)\n",
    "- Standardization transforms data so that the features have a mean of 0 and a standard deviation of 1.\n",
    "- Formula: X′ = X−μ/σ\n",
    "- Where:\n",
    "- X is the original feature value.\n",
    "- μ is the mean of the feature.\n",
    "- σ is the standard deviation of the feature.\n",
    "- X′ is the standardized value.\n"
   ]
  },
  {
   "cell_type": "markdown",
   "id": "610556f9",
   "metadata": {},
   "source": [
    "##### 3. Robust Scaling\n",
    "- Robust scaling is an alternative to standardization that uses the median and interquartile range (IQR) to scale data. This method is less sensitive to outliers compared to standardization.\n",
    "- Formula: X′ = X−median/IQR\n",
    "- Where:\n",
    "- X is the original feature value.\n",
    "- Median is the middle value of the feature.\n",
    "- IQR (Interquartile Range) is the difference between the 75th percentile (Q3) and the 25th percentile (Q1).\n",
    "​\n"
   ]
  },
  {
   "cell_type": "markdown",
   "id": "b1dd487d",
   "metadata": {},
   "source": [
    "##### 4. MaxAbs Scaling\n",
    "- MaxAbs scaling scales the data by dividing each feature by its maximum absolute value. It’s particularly useful for sparse data.\n",
    "- Formula: X′ = X / ∣Xmax∣\n",
    "- Where:\n",
    "- X is the original feature value.\n",
    "- Xmax is the maximum absolute value of the feature.\n"
   ]
  }
 ],
 "metadata": {
  "language_info": {
   "name": "python"
  }
 },
 "nbformat": 4,
 "nbformat_minor": 5
}
