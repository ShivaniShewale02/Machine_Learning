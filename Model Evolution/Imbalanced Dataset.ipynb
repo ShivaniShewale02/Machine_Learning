{
 "cells": [
  {
   "cell_type": "markdown",
   "id": "645b7500",
   "metadata": {},
   "source": [
    "# Imbalanced Dataset"
   ]
  },
  {
   "cell_type": "markdown",
   "id": "11b501e7",
   "metadata": {},
   "source": [
    "### What Is an Imbalanced Dataset?\n",
    "- An imbalanced dataset is one where the number of samples in each class is not equal.\n",
    "- Example: \n",
    "\n",
    "| Class          | Number of Samples |\n",
    "| -------------- | ----------------- |\n",
    "| Normal (0)     | 950               |\n",
    "| Fraudulent (1) | 50                |\n",
    "\n",
    "- Here, class 1 represents only 5% of the data → highly imbalanced.\n",
    "```\n",
    "pip install imbalanced-learn\n",
    "from imblearn.over_sampling import RandomOverSampler\n",
    "from imblearn.under_sampling import RandomUnderSampler\n",
    "```"
   ]
  },
  {
   "cell_type": "markdown",
   "id": "14785d9c",
   "metadata": {},
   "source": [
    "### Why Is It a Problem?\n",
    "- Accuracy becomes misleading\n",
    "(e.g., 95% accuracy by predicting only class 0!)\n",
    "- Model becomes biased toward majority class\n",
    "- Minority class (often most important!) is underrepresented\n",
    "- Poor recall, precision, F1 score for minority class"
   ]
  },
  {
   "cell_type": "markdown",
   "id": "80069c3b",
   "metadata": {},
   "source": [
    "### How to Detecting Imbalance\n",
    "🔹 Use Python:\n",
    "```\n",
    "from collections import Counter\n",
    "print(Counter(y_train))\n",
    "```\n",
    "\n",
    "🔹 Visualize with a bar plot:\n",
    "```\n",
    "import seaborn as sns\n",
    "sns.countplot(x=y_train)\n",
    "```"
   ]
  },
  {
   "cell_type": "markdown",
   "id": "d331c02b",
   "metadata": {},
   "source": [
    "## Techniques to Handle Imbalanced Datasets"
   ]
  },
  {
   "cell_type": "markdown",
   "id": "09fab22a",
   "metadata": {},
   "source": [
    "### 🔷 5.1 Resampling Techniques\n",
    "##### a) Undersampling (Reduce Majority Class):\n",
    "- Reduce number of samples from majority class to balance.\n",
    "- We will reduce the majority of the class so that it will have same no of as the minority.\n",
    "```\n",
    "from imblearn.under_sampling import RandomUnderSampler\n",
    "rus = RandomUnderSampler()\n",
    "X_resampled, y_resampled = rus.fit_resample(X, y)\n",
    "```\n",
    "- Risk: You may lose useful data.\n",
    "\n",
    "\n",
    "##### b) Oversampling (Increase Minority Class):\n",
    "- Duplicate or generate more minority class samples.\n",
    "- We will increase the size of manority is inactive class to the size of majority class is active.\n",
    "```\n",
    "from imblearn.over_sampling import RandomOverSampler\n",
    "ros = RandomOverSampler()\n",
    "X_resampled, y_resampled = ros.fit_resample(X, y)\n",
    "```\n",
    "- Risk of overfitting (repeating data)\n",
    "\n",
    "\n",
    "##### c) SMOTE (Synthetic Minority Oversampling Technique):\n",
    "- Generate synthetic minority samples using k-NN.\n",
    "```\n",
    "from imblearn.over_sampling import SMOTE\n",
    "smote = SMOTE()\n",
    "X_sm, y_sm = smote.fit_resample(X, y)\n",
    "```\n",
    "- ✅ Better than simple duplication\n",
    "\n",
    "\n",
    "\n",
    "### 🔷 5.2 Algorithmic Techniques\n",
    "\n",
    "##### a) Use algorithms that handle imbalance better:\n",
    "- XGBoost, LightGBM, RandomForest with class weighting\n",
    "- Set class weights during training\n",
    "```\n",
    "from sklearn.ensemble import RandomForestClassifier\n",
    "model = RandomForestClassifier(class_weight='balanced')\n",
    "```\n",
    "\n",
    "##### b) Use custom loss functions (e.g., weighted cross-entropy):\n",
    "- In TensorFlow, PyTorch — set weight for minority class.\n",
    "```\n",
    "loss_fn = tf.keras.losses.BinaryCrossentropy(from_logits=True)\n",
    "```\n",
    "\n",
    "\n",
    "### 🔷 5.3 Change the Decision Threshold\n",
    "- Default threshold for classification is 0.5\n",
    "- You can lower it (e.g., 0.3) to catch more positives (higher recall).\n",
    "```\n",
    "y_proba = model.predict_proba(X_test)[:, 1]\n",
    "y_pred = (y_proba > 0.3).astype(int)\n",
    "```"
   ]
  },
  {
   "cell_type": "markdown",
   "id": "43214052",
   "metadata": {},
   "source": [
    "---"
   ]
  },
  {
   "cell_type": "markdown",
   "id": "7bdad539",
   "metadata": {},
   "source": [
    "# Example From ChatGPT"
   ]
  },
  {
   "cell_type": "code",
   "execution_count": null,
   "id": "b4bb4700",
   "metadata": {},
   "outputs": [
    {
     "name": "stdout",
     "output_type": "stream",
     "text": [
      "[[-0.05861915 -0.35109008]\n",
      " [ 1.24668618  1.15359685]\n",
      " [ 0.96277683  0.85939747]\n",
      " ...\n",
      " [-0.10126746 -1.59017563]\n",
      " [ 0.64376105 -0.78053855]\n",
      " [ 0.69852984 -1.27940455]] [0 1 1 1 0 0 0 0 0 0 0 0 0 0 0 1 0 0 0 0 0 0 0 0 0 0 0 0 0 0 0 0 0 0 0 0 1\n",
      " 0 0 0 0 0 0 0 0 0 0 0 0 0 0 0 0 0 0 0 0 0 0 0 0 0 0 0 0 0 0 0 0 0 0 0 0 0\n",
      " 0 0 0 0 0 0 0 0 0 0 0 0 0 0 0 0 0 0 0 0 0 0 0 0 1 0 0 0 0 0 0 0 0 0 0 0 0\n",
      " 0 0 0 0 0 0 0 0 0 0 0 0 0 0 0 0 0 0 0 0 0 0 0 0 0 0 0 0 0 0 0 0 0 0 0 0 0\n",
      " 0 0 0 0 1 0 0 0 0 0 0 0 0 0 1 0 0 0 0 0 0 0 0 0 0 0 0 0 0 0 0 0 0 0 0 0 0\n",
      " 0 0 0 0 1 0 0 0 0 0 0 0 0 0 0 0 0 0 0 0 0 0 0 0 0 0 0 0 0 0 0 0 0 0 0 0 0\n",
      " 0 0 0 1 0 0 0 0 0 0 0 1 0 0 0 0 0 0 0 1 0 0 0 0 0 0 0 0 0 0 1 0 1 0 0 0 0\n",
      " 0 0 0 0 0 0 0 0 0 0 0 0 0 0 0 0 0 0 0 0 0 0 0 0 0 0 0 0 0 0 0 0 0 0 0 0 0\n",
      " 0 0 0 0 0 0 0 0 0 0 0 0 0 0 0 0 0 0 0 0 0 0 0 0 0 0 0 1 0 0 0 0 0 0 0 0 0\n",
      " 0 0 0 0 0 0 0 0 0 0 0 0 0 0 0 0 0 0 0 0 1 0 0 0 0 0 0 0 1 0 0 0 1 0 0 0 0\n",
      " 0 0 0 0 0 0 1 0 0 0 0 0 0 0 0 0 0 0 0 0 0 0 1 0 0 0 0 0 0 0 0 0 0 0 0 0 0\n",
      " 0 0 0 0 0 0 0 0 0 0 0 0 0 0 0 0 0 0 0 0 0 0 0 0 0 0 0 1 0 0 0 0 0 0 0 0 0\n",
      " 0 0 0 0 0 0 0 0 0 0 0 0 0 0 0 0 0 0 0 1 0 0 0 1 0 0 0 0 0 0 0 0 0 0 0 0 0\n",
      " 0 0 0 0 0 0 0 0 0 0 0 0 0 0 0 0 0 0 0 0 0 1 0 0 0 0 0 0 0 0 0 0 0 0 0 0 0\n",
      " 0 0 0 0 0 0 0 0 0 0 0 0 0 0 0 0 0 0 0 0 0 0 0 0 0 0 0 0 0 0 0 0 0 0 0 0 0\n",
      " 0 0 0 0 0 0 0 0 0 0 0 0 0 0 0 0 1 0 0 0 0 0 0 0 0 0 1 0 0 0 0 0 0 0 0 0 0\n",
      " 0 0 0 0 0 0 0 0 0 0 0 0 0 0 0 0 0 0 0 0 0 0 0 0 1 0 0 0 0 0 0 0 0 0 0 0 1\n",
      " 0 0 0 0 0 0 0 0 0 0 0 1 0 0 0 0 0 0 0 0 0 0 0 0 0 0 0 0 0 0 0 0 0 0 0 0 1\n",
      " 0 0 0 0 0 0 0 0 0 0 0 0 0 0 0 0 0 0 0 0 0 0 0 0 0 0 0 0 0 0 0 0 0 0 0 0 0\n",
      " 0 0 0 0 0 0 0 0 0 0 1 0 0 0 0 0 0 0 0 0 1 0 0 0 0 0 0 0 0 0 0 1 0 0 0 0 0\n",
      " 0 0 1 0 0 0 0 1 0 0 0 0 0 0 0 0 1 0 0 0 0 0 0 0 0 0 0 0 0 1 0 0 0 0 0 0 0\n",
      " 0 0 0 0 0 0 0 0 0 0 0 0 0 1 0 0 1 0 1 0 0 0 0 0 0 0 0 0 0 0 0 0 0 0 0 0 0\n",
      " 0 0 0 0 0 0 0 0 0 0 0 0 0 0 0 0 0 0 0 0 0 0 0 0 0 0 0 1 0 0 0 1 0 0 0 0 0\n",
      " 0 0 0 0 0 0 0 0 0 1 0 0 0 0 0 0 0 0 0 0 0 1 0 0 0 0 0 0 0 0 0 0 0 1 0 0 0\n",
      " 1 0 0 1 0 0 0 0 1 0 0 0 1 0 0 0 0 0 0 0 0 0 0 0 0 0 0 0 0 0 0 0 0 0 0 0 0\n",
      " 0 0 0 0 0 0 0 0 1 0 0 0 0 0 0 0 0 0 0 0 0 1 0 0 1 0 0 0 0 0 0 0 0 0 0 0 0\n",
      " 1 0 0 1 0 0 0 0 0 0 0 0 0 1 0 0 0 0 0 0 0 0 0 0 0 0 0 1 0 0 0 0 0 0 0 0 0\n",
      " 0]\n"
     ]
    },
    {
     "data": {
      "image/png": "[encoded data removed]",
      "text/plain": [
       "<Figure size 640x480 with 1 Axes>"
      ]
     },
     "metadata": {},
     "output_type": "display_data"
    }
   ],
   "source": [
    "from sklearn.datasets import make_classification\n",
    "import matplotlib.pyplot as plt\n",
    "import seaborn as sns\n",
    "import pandas as pd\n",
    "\n",
    "X, y = make_classification(\n",
    "    n_samples=1000,\n",
    "    n_features=2,\n",
    "    n_informative=2,\n",
    "    n_redundant=0,\n",
    "    n_repeated=0,\n",
    "    n_classes=2,\n",
    "    weights=[0.95, 0.05],\n",
    "    random_state=42\n",
    ")\n",
    "\n",
    "# Plot class distribution\n",
    "# also can use .value_counts() function to check the number of unique values and how many times that values occers.\n",
    "sns.countplot(x=y)\n",
    "plt.title(\"Original Class Distribution\")\n",
    "plt.xlabel(\"Class\")\n",
    "plt.ylabel(\"Count\")\n",
    "plt.show()\n"
   ]
  },
  {
   "cell_type": "code",
   "execution_count": null,
   "id": "9afc1718",
   "metadata": {},
   "outputs": [
    {
     "data": {
      "image/png": "[encoded data removed]",
      "text/plain": [
       "<Figure size 640x480 with 1 Axes>"
      ]
     },
     "metadata": {},
     "output_type": "display_data"
    }
   ],
   "source": [
    "from imblearn.over_sampling import RandomOverSampler\n",
    "\n",
    "# Apply oversampling\n",
    "ros = RandomOverSampler(random_state=42)\n",
    "X_over, y_over = ros.fit_resample(X, y)   # here we are not using fit_transform() we are using fit_resample() to sample function.\n",
    "\n",
    "# Plot new class distribution\n",
    "sns.countplot(x=y_over)\n",
    "plt.title(\"After Random Oversampling\")\n",
    "plt.xlabel(\"Class\")\n",
    "plt.ylabel(\"Count\")\n",
    "plt.show()\n"
   ]
  },
  {
   "cell_type": "code",
   "execution_count": null,
   "id": "38896114",
   "metadata": {},
   "outputs": [
    {
     "data": {
      "image/png": "[encoded data removed]",
      "text/plain": [
       "<Figure size 640x480 with 1 Axes>"
      ]
     },
     "metadata": {},
     "output_type": "display_data"
    }
   ],
   "source": [
    "from imblearn.under_sampling import RandomUnderSampler\n",
    "\n",
    "# Apply undersampling\n",
    "rus = RandomUnderSampler(random_state=42)\n",
    "X_under, y_under = rus.fit_resample(X, y)   # here we are not using fit_transform() we are using fit_resample() to sample function.\n",
    "\n",
    "# Plot new class distribution\n",
    "sns.countplot(x=y_under)\n",
    "plt.title(\"After Random Undersampling\")\n",
    "plt.xlabel(\"Class\")\n",
    "plt.ylabel(\"Count\")\n",
    "plt.show()\n"
   ]
  },
  {
   "cell_type": "code",
   "execution_count": 6,
   "id": "f0c4bafd",
   "metadata": {},
   "outputs": [
    {
     "name": "stdout",
     "output_type": "stream",
     "text": [
      "Original Data: {0: 944, 1: 56}\n",
      "Oversampled:   {0: 944, 1: 944}\n",
      "Undersampled:  {0: 56, 1: 56}\n"
     ]
    }
   ],
   "source": [
    "print(f\"Original Data: {pd.Series(y).value_counts().to_dict()}\")\n",
    "print(f\"Oversampled:   {pd.Series(y_over).value_counts().to_dict()}\")\n",
    "print(f\"Undersampled:  {pd.Series(y_under).value_counts().to_dict()}\")"
   ]
  }
 ],
 "metadata": {
  "kernelspec": {
   "display_name": "Python 3",
   "language": "python",
   "name": "python3"
  },
  "language_info": {
   "codemirror_mode": {
    "name": "ipython",
    "version": 3
   },
   "file_extension": ".py",
   "mimetype": "text/x-python",
   "name": "python",
   "nbconvert_exporter": "python",
   "pygments_lexer": "ipython3",
   "version": "3.13.5"
  }
 },
 "nbformat": 4,
 "nbformat_minor": 5
}
