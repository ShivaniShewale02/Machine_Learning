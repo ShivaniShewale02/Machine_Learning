{
 "cells": [
  {
   "cell_type": "markdown",
   "id": "e8f841f3",
   "metadata": {},
   "source": [
    "# Handling Mixed-Type Data (Multitype)\n",
    "- Handling mixed-type data (also called multitype data) in the same column is a common preprocessing challenge in machine learning.\n",
    "- Our Goal is to Detect, convert, and replace inconsistent data types into a consistent format for modeling."
   ]
  },
  {
   "cell_type": "markdown",
   "id": "f1d133da",
   "metadata": {},
   "source": [
    "| Task                    | Function                         |\n",
    "| ----------------------- | -------------------------------- |\n",
    "| Replace specific values | `df.replace()`                   |\n",
    "| Convert to numeric      | `pd.to_numeric(errors='coerce')` |\n",
    "| Convert to string       | `astype(str)`                    |\n",
    "| Convert to datetime     | `pd.to_datetime()`               |\n",
    "| Detect mixed types      | `apply(type)`                    |\n",
    "| Fill missing values     | `fillna()`, `dropna()`           |"
   ]
  },
  {
   "cell_type": "markdown",
   "id": "8dbea19a",
   "metadata": {},
   "source": [
    "| To convert  | Use                                          |\n",
    "| ----------- | -------------------------------------------- |\n",
    "| To numeric  | `pd.to_numeric(df['col'])`                   |\n",
    "| To string   | `df['col'].astype(str)`                      |\n",
    "| To category | `df['col'].astype('category')`               |\n",
    "| To datetime | `pd.to_datetime(df['col'], errors='coerce')` |\n",
    "\n",
    "- \tastype(Type): I can use this function to convert the data to any data type not only string but to interger and float also."
   ]
  },
  {
   "cell_type": "markdown",
   "id": "db3fef5c",
   "metadata": {},
   "source": [
    "### Step 1: Identify the Mixed Types in column"
   ]
  },
  {
   "cell_type": "code",
   "execution_count": 55,
   "id": "8ba2ab50",
   "metadata": {},
   "outputs": [],
   "source": [
    "# Import Libraries\n",
    "import pandas as pd"
   ]
  },
  {
   "cell_type": "code",
   "execution_count": 56,
   "id": "2d062d0f",
   "metadata": {},
   "outputs": [
    {
     "data": {
      "text/html": [
       "<div>\n",
       "<style scoped>\n",
       "    .dataframe tbody tr th:only-of-type {\n",
       "        vertical-align: middle;\n",
       "    }\n",
       "\n",
       "    .dataframe tbody tr th {\n",
       "        vertical-align: top;\n",
       "    }\n",
       "\n",
       "    .dataframe thead th {\n",
       "        text-align: right;\n",
       "    }\n",
       "</style>\n",
       "<table border=\"1\" class=\"dataframe\">\n",
       "  <thead>\n",
       "    <tr style=\"text-align: right;\">\n",
       "      <th></th>\n",
       "      <th>age</th>\n",
       "    </tr>\n",
       "  </thead>\n",
       "  <tbody>\n",
       "    <tr>\n",
       "      <th>0</th>\n",
       "      <td>25</td>\n",
       "    </tr>\n",
       "    <tr>\n",
       "      <th>1</th>\n",
       "      <td>30</td>\n",
       "    </tr>\n",
       "    <tr>\n",
       "      <th>2</th>\n",
       "      <td>unknown</td>\n",
       "    </tr>\n",
       "    <tr>\n",
       "      <th>3</th>\n",
       "      <td>45</td>\n",
       "    </tr>\n",
       "    <tr>\n",
       "      <th>4</th>\n",
       "      <td>None</td>\n",
       "    </tr>\n",
       "    <tr>\n",
       "      <th>5</th>\n",
       "      <td>40</td>\n",
       "    </tr>\n",
       "  </tbody>\n",
       "</table>\n",
       "</div>"
      ],
      "text/plain": [
       "       age\n",
       "0       25\n",
       "1       30\n",
       "2  unknown\n",
       "3       45\n",
       "4     None\n",
       "5       40"
      ]
     },
     "execution_count": 56,
     "metadata": {},
     "output_type": "execute_result"
    }
   ],
   "source": [
    "# Create a dataset (Here, I have created a dataset with multiple data types data in a same column)\n",
    "df = pd.DataFrame({'age': [25, '30', 'unknown', 45, None, '40']})\n",
    "df"
   ]
  },
  {
   "cell_type": "code",
   "execution_count": 57,
   "id": "32277e80",
   "metadata": {},
   "outputs": [
    {
     "name": "stdout",
     "output_type": "stream",
     "text": [
      "0         <class 'int'>\n",
      "1         <class 'str'>\n",
      "2         <class 'str'>\n",
      "3         <class 'int'>\n",
      "4    <class 'NoneType'>\n",
      "5         <class 'str'>\n",
      "Name: age, dtype: object\n"
     ]
    },
    {
     "data": {
      "text/plain": [
       "age\n",
       "25         1\n",
       "30         1\n",
       "unknown    1\n",
       "45         1\n",
       "40         1\n",
       "Name: count, dtype: int64"
      ]
     },
     "execution_count": 57,
     "metadata": {},
     "output_type": "execute_result"
    }
   ],
   "source": [
    "# chech the data type of the data in the column\n",
    "print(df['age'].apply(type))  # Show data type per row in the column\n",
    "# If want the complete info for the data set we can use data_set.info() for large dataset to make work easier\n",
    "# df.info()\n",
    "df['age'].value_counts()   # use to get the value count of the data like it will show each data is repeated how many times in the same column"
   ]
  },
  {
   "cell_type": "markdown",
   "id": "b9883f26",
   "metadata": {},
   "source": [
    "### Step 2: Replace Specific Text Values"
   ]
  },
  {
   "cell_type": "code",
   "execution_count": 58,
   "id": "3c592469",
   "metadata": {},
   "outputs": [
    {
     "data": {
      "text/html": [
       "<div>\n",
       "<style scoped>\n",
       "    .dataframe tbody tr th:only-of-type {\n",
       "        vertical-align: middle;\n",
       "    }\n",
       "\n",
       "    .dataframe tbody tr th {\n",
       "        vertical-align: top;\n",
       "    }\n",
       "\n",
       "    .dataframe thead th {\n",
       "        text-align: right;\n",
       "    }\n",
       "</style>\n",
       "<table border=\"1\" class=\"dataframe\">\n",
       "  <thead>\n",
       "    <tr style=\"text-align: right;\">\n",
       "      <th></th>\n",
       "      <th>age</th>\n",
       "    </tr>\n",
       "  </thead>\n",
       "  <tbody>\n",
       "    <tr>\n",
       "      <th>0</th>\n",
       "      <td>25</td>\n",
       "    </tr>\n",
       "    <tr>\n",
       "      <th>1</th>\n",
       "      <td>30</td>\n",
       "    </tr>\n",
       "    <tr>\n",
       "      <th>2</th>\n",
       "      <td>&lt;NA&gt;</td>\n",
       "    </tr>\n",
       "    <tr>\n",
       "      <th>3</th>\n",
       "      <td>45</td>\n",
       "    </tr>\n",
       "    <tr>\n",
       "      <th>4</th>\n",
       "      <td>None</td>\n",
       "    </tr>\n",
       "    <tr>\n",
       "      <th>5</th>\n",
       "      <td>40</td>\n",
       "    </tr>\n",
       "  </tbody>\n",
       "</table>\n",
       "</div>"
      ],
      "text/plain": [
       "    age\n",
       "0    25\n",
       "1    30\n",
       "2  <NA>\n",
       "3    45\n",
       "4  None\n",
       "5    40"
      ]
     },
     "execution_count": 58,
     "metadata": {},
     "output_type": "execute_result"
    }
   ],
   "source": [
    "# Replace the specific text values with the NaN value and then hanple that NaN value in the missing values part\n",
    "# Here, in the dataset you can see 'unknown' is the specific text value which we have to replace with NaN\n",
    "df['age'] = df['age'].replace('unknown', pd.NA)  # Here, we can use None or pd.NA to fill the values as Null\n",
    "df"
   ]
  },
  {
   "cell_type": "markdown",
   "id": "30962312",
   "metadata": {},
   "source": [
    "### Step 3: Convert The Data Type"
   ]
  },
  {
   "cell_type": "code",
   "execution_count": 59,
   "id": "a2897e9a",
   "metadata": {},
   "outputs": [
    {
     "name": "stdout",
     "output_type": "stream",
     "text": [
      "<class 'pandas.core.frame.DataFrame'>\n",
      "RangeIndex: 6 entries, 0 to 5\n",
      "Data columns (total 1 columns):\n",
      " #   Column  Non-Null Count  Dtype  \n",
      "---  ------  --------------  -----  \n",
      " 0   age     4 non-null      float64\n",
      "dtypes: float64(1)\n",
      "memory usage: 180.0 bytes\n"
     ]
    }
   ],
   "source": [
    "# Convert to numeric and coerce errors to NaN\n",
    "df['age'] = pd.to_numeric(df['age'])\n",
    "df.info()"
   ]
  },
  {
   "cell_type": "markdown",
   "id": "a1339d47",
   "metadata": {},
   "source": [
    "### Step 4: Replace or Impute Missing Values"
   ]
  },
  {
   "cell_type": "code",
   "execution_count": 60,
   "id": "434bad4b",
   "metadata": {},
   "outputs": [
    {
     "data": {
      "text/plain": [
       "age    2\n",
       "dtype: int64"
      ]
     },
     "execution_count": 60,
     "metadata": {},
     "output_type": "execute_result"
    }
   ],
   "source": [
    "# Check the missing values in the data using the isnull() funcation\n",
    "df.isnull().sum()"
   ]
  },
  {
   "cell_type": "code",
   "execution_count": 64,
   "id": "24ca101c",
   "metadata": {},
   "outputs": [
    {
     "data": {
      "text/html": [
       "<div>\n",
       "<style scoped>\n",
       "    .dataframe tbody tr th:only-of-type {\n",
       "        vertical-align: middle;\n",
       "    }\n",
       "\n",
       "    .dataframe tbody tr th {\n",
       "        vertical-align: top;\n",
       "    }\n",
       "\n",
       "    .dataframe thead th {\n",
       "        text-align: right;\n",
       "    }\n",
       "</style>\n",
       "<table border=\"1\" class=\"dataframe\">\n",
       "  <thead>\n",
       "    <tr style=\"text-align: right;\">\n",
       "      <th></th>\n",
       "      <th>age</th>\n",
       "    </tr>\n",
       "  </thead>\n",
       "  <tbody>\n",
       "    <tr>\n",
       "      <th>0</th>\n",
       "      <td>25.0</td>\n",
       "    </tr>\n",
       "    <tr>\n",
       "      <th>1</th>\n",
       "      <td>30.0</td>\n",
       "    </tr>\n",
       "    <tr>\n",
       "      <th>2</th>\n",
       "      <td>35.0</td>\n",
       "    </tr>\n",
       "    <tr>\n",
       "      <th>3</th>\n",
       "      <td>45.0</td>\n",
       "    </tr>\n",
       "    <tr>\n",
       "      <th>4</th>\n",
       "      <td>35.0</td>\n",
       "    </tr>\n",
       "    <tr>\n",
       "      <th>5</th>\n",
       "      <td>40.0</td>\n",
       "    </tr>\n",
       "  </tbody>\n",
       "</table>\n",
       "</div>"
      ],
      "text/plain": [
       "    age\n",
       "0  25.0\n",
       "1  30.0\n",
       "2  35.0\n",
       "3  45.0\n",
       "4  35.0\n",
       "5  40.0"
      ]
     },
     "execution_count": 64,
     "metadata": {},
     "output_type": "execute_result"
    }
   ],
   "source": [
    "# Fill the missing values in the dataset (age column have missing vales so we have to fil it)\n",
    "df.fillna({'age' : df['age'].mean()}, inplace= True)  # Here, I have filled mode because i have handles missing values first and the content in the column is still object based data and i can not apply mean and median on it. (If I changed the data type of the content before handling the missing values then I can use mean and median also to fill the mssing values)\n",
    "df"
   ]
  },
  {
   "cell_type": "code",
   "execution_count": null,
   "id": "ee1025fb",
   "metadata": {},
   "outputs": [
    {
     "data": {
      "text/html": [
       "<div>\n",
       "<style scoped>\n",
       "    .dataframe tbody tr th:only-of-type {\n",
       "        vertical-align: middle;\n",
       "    }\n",
       "\n",
       "    .dataframe tbody tr th {\n",
       "        vertical-align: top;\n",
       "    }\n",
       "\n",
       "    .dataframe thead th {\n",
       "        text-align: right;\n",
       "    }\n",
       "</style>\n",
       "<table border=\"1\" class=\"dataframe\">\n",
       "  <thead>\n",
       "    <tr style=\"text-align: right;\">\n",
       "      <th></th>\n",
       "      <th>salary</th>\n",
       "    </tr>\n",
       "  </thead>\n",
       "  <tbody>\n",
       "    <tr>\n",
       "      <th>0</th>\n",
       "      <td>1000.0</td>\n",
       "    </tr>\n",
       "    <tr>\n",
       "      <th>1</th>\n",
       "      <td>2000.0</td>\n",
       "    </tr>\n",
       "    <tr>\n",
       "      <th>2</th>\n",
       "      <td>3000.0</td>\n",
       "    </tr>\n",
       "    <tr>\n",
       "      <th>3</th>\n",
       "      <td>2500.0</td>\n",
       "    </tr>\n",
       "    <tr>\n",
       "      <th>4</th>\n",
       "      <td>4000.0</td>\n",
       "    </tr>\n",
       "    <tr>\n",
       "      <th>5</th>\n",
       "      <td>2500.0</td>\n",
       "    </tr>\n",
       "  </tbody>\n",
       "</table>\n",
       "</div>"
      ],
      "text/plain": [
       "   salary\n",
       "0  1000.0\n",
       "1  2000.0\n",
       "2  3000.0\n",
       "3  2500.0\n",
       "4  4000.0\n",
       "5  2500.0"
      ]
     },
     "execution_count": 67,
     "metadata": {},
     "output_type": "execute_result"
    },
    {
     "ename": "",
     "evalue": "",
     "output_type": "error",
     "traceback": [
      "\u001b[1;31mThe Kernel crashed while executing code in the current cell or a previous cell. \n",
      "\u001b[1;31mPlease review the code in the cell(s) to identify a possible cause of the failure. \n",
      "\u001b[1;31mClick <a href='https://aka.ms/vscodeJupyterKernelCrash'>here</a> for more info. \n",
      "\u001b[1;31mView Jupyter <a href='command:jupyter.viewOutput'>log</a> for further details."
     ]
    }
   ],
   "source": [
    "# Example: Cleaning a Mixed-Type Dataset\n",
    "df = pd.DataFrame({'salary': ['1000', '2000', '3k', None, 4000, 'unknown']})\n",
    "\n",
    "# Replace 'unknown' and '3k' with NaN (custom logic)\n",
    "df['salary'] = df['salary'].replace({'unknown': None, '3k': 3000})\n",
    "\n",
    "# Convert to numeric\n",
    "df['salary'] = pd.to_numeric(df['salary'], errors='coerce')\n",
    "\n",
    "# Fill missing with median\n",
    "df['salary'] = df['salary'].fillna(df['salary'].median())\n",
    "\n",
    "# Print DataFrame\n",
    "df\n"
   ]
  }
 ],
 "metadata": {
  "kernelspec": {
   "display_name": "Python 3",
   "language": "python",
   "name": "python3"
  },
  "language_info": {
   "codemirror_mode": {
    "name": "ipython",
    "version": 3
   },
   "file_extension": ".py",
   "mimetype": "text/x-python",
   "name": "python",
   "nbconvert_exporter": "python",
   "pygments_lexer": "ipython3",
   "version": "3.13.5"
  }
 },
 "nbformat": 4,
 "nbformat_minor": 5
}
