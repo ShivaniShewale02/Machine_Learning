{
 "cells": [
  {
   "cell_type": "markdown",
   "id": "34791b66",
   "metadata": {},
   "source": [
    "# Outliers Removal Using Interquartile Range (IQR)\n",
    "- The Interquartile Range (IQR) method is a robust technique to detect and remove outliers. It is based on the middle 50% of the data and is not affected by extreme values, making it a great alternative to Z-score.\n",
    "- The Interquartile Range (IQR) is the difference between the third quartile (Q3) and the first quartile (Q1):\n",
    "- IQR=Q3−Q1\n",
    "- Outliers are defined as:\n",
    "- Lower Bound: Q1−1.5×IQR\n",
    "- Upper Bound: Q3+1.5×IQR"
   ]
  },
  {
   "cell_type": "markdown",
   "id": "de9f6002",
   "metadata": {},
   "source": [
    "### Steps to Remove Outliers Using Python"
   ]
  },
  {
   "cell_type": "markdown",
   "id": "da4a87fc",
   "metadata": {},
   "source": [
    "##### On Basic Data Set"
   ]
  },
  {
   "cell_type": "code",
   "execution_count": 31,
   "id": "b6819b82",
   "metadata": {},
   "outputs": [],
   "source": [
    "# Import Libraries\n",
    "import numpy as np\n",
    "import pandas as pd\n",
    "import matplotlib.pyplot as plt\n",
    "import seaborn as sns"
   ]
  },
  {
   "cell_type": "code",
   "execution_count": null,
   "id": "ae842c9b",
   "metadata": {},
   "outputs": [
    {
     "name": "stdout",
     "output_type": "stream",
     "text": [
      "Original Data:\n",
      "   Value\n",
      "0     10\n",
      "1     12\n",
      "2     14\n",
      "3     15\n",
      "4     16\n",
      "5     18\n",
      "6     19\n",
      "7     20\n",
      "8    100\n"
     ]
    }
   ],
   "source": [
    "# Create a Data Set\n",
    "# Example dataset\n",
    "data = {'Value': [10, 12, 14, 15, 16, 18, 19, 20, 100]}  # 100 is an outlier\n",
    "df = pd.DataFrame(data)\n",
    "\n",
    "# Display original data\n",
    "print(df)"
   ]
  },
  {
   "cell_type": "code",
   "execution_count": 12,
   "id": "85e738f5",
   "metadata": {},
   "outputs": [
    {
     "data": {
      "text/plain": [
       "Text(0.5, 1.0, 'Before Removing Outliers')"
      ]
     },
     "execution_count": 12,
     "metadata": {},
     "output_type": "execute_result"
    },
    {
     "data": {
      "image/png": "[encoded data removed]",
      "text/plain": [
       "<Figure size 640x480 with 1 Axes>"
      ]
     },
     "metadata": {},
     "output_type": "display_data"
    }
   ],
   "source": [
    "# Before removing outliers\n",
    "plt.boxplot(df['Value'])\n",
    "plt.title(\"Before Removing Outliers\")"
   ]
  },
  {
   "cell_type": "markdown",
   "id": "5298c271",
   "metadata": {},
   "source": [
    "##### What is a Quartile?\n",
    "- A quartile is a statistical measure that divides a dataset into four equal parts. These quartiles help us understand the distribution of data by identifying key percentiles.\n",
    "\n",
    "##### Types of Quartiles\n",
    "- First Quartile (Q1) - 25th Percentile\n",
    "- Second Quartile (Q2) - 50th Percentile (Median)\n",
    "- Third Quartile (Q3) - 75th Percentile\n",
    "- Interquartile Range (IQR) - IQR = Q3−Q1"
   ]
  },
  {
   "cell_type": "code",
   "execution_count": null,
   "id": "9bdfa7e4",
   "metadata": {},
   "outputs": [
    {
     "name": "stdout",
     "output_type": "stream",
     "text": [
      "   Value Outlier\n",
      "0     10      No\n",
      "1     12      No\n",
      "2     14      No\n",
      "3     15      No\n",
      "4     16      No\n",
      "5     18      No\n",
      "6     19      No\n",
      "7     20      No\n",
      "8    100     Yes\n"
     ]
    }
   ],
   "source": [
    "# Calculate Q1 (25th percentile) and Q3 (75th percentile)\n",
    "Q1 = df['Value'].quantile(0.25)\n",
    "Q3 = df['Value'].quantile(0.75)\n",
    "\n",
    "# Using Numpy to calculate percentiles\n",
    "# Q1 = np.percentile(data, 25)\n",
    "# Q2 = np.percentile(data, 50) \n",
    "# Q3 = np.percentile(data, 75)\n",
    "\n",
    "# Compute IQR\n",
    "IQR = Q3 - Q1\n",
    "\n",
    "# Define lower and upper bounds for outliers\n",
    "lower_bound = Q1 - 1.5 * IQR\n",
    "upper_bound = Q3 + 1.5 * IQR\n",
    "\n",
    "# Identify outliers\n",
    "df['Outlier'] = df['Value'].apply(lambda x: 'Yes' if x < lower_bound or x > upper_bound else 'No')\n",
    "print(df)"
   ]
  },
  {
   "cell_type": "code",
   "execution_count": 15,
   "id": "a88220ba",
   "metadata": {},
   "outputs": [
    {
     "name": "stdout",
     "output_type": "stream",
     "text": [
      "   Value\n",
      "0     10\n",
      "1     12\n",
      "2     14\n",
      "3     15\n",
      "4     16\n",
      "5     18\n",
      "6     19\n",
      "7     20\n"
     ]
    }
   ],
   "source": [
    "# Remove outliers from the dataset\n",
    "df_cleaned = df[df['Outlier'] == 'No'].drop(columns=['Outlier'])\n",
    "\n",
    "# Display cleaned data\n",
    "print(df_cleaned)"
   ]
  },
  {
   "cell_type": "code",
   "execution_count": 17,
   "id": "b80810a9",
   "metadata": {},
   "outputs": [
    {
     "data": {
      "text/plain": [
       "Text(0.5, 1.0, 'After Removing Outliers')"
      ]
     },
     "execution_count": 17,
     "metadata": {},
     "output_type": "execute_result"
    },
    {
     "data": {
      "image/png": "[encoded data removed]",
      "text/plain": [
       "<Figure size 640x480 with 1 Axes>"
      ]
     },
     "metadata": {},
     "output_type": "display_data"
    }
   ],
   "source": [
    "# After removing outliers\n",
    "plt.boxplot(df_cleaned['Value'])\n",
    "plt.title(\"After Removing Outliers\")"
   ]
  },
  {
   "cell_type": "markdown",
   "id": "adb711f0",
   "metadata": {},
   "source": [
    "### On Sales_data"
   ]
  },
  {
   "cell_type": "code",
   "execution_count": 22,
   "id": "14e2f77d",
   "metadata": {},
   "outputs": [
    {
     "data": {
      "text/html": [
       "<div>\n",
       "<style scoped>\n",
       "    .dataframe tbody tr th:only-of-type {\n",
       "        vertical-align: middle;\n",
       "    }\n",
       "\n",
       "    .dataframe tbody tr th {\n",
       "        vertical-align: top;\n",
       "    }\n",
       "\n",
       "    .dataframe thead th {\n",
       "        text-align: right;\n",
       "    }\n",
       "</style>\n",
       "<table border=\"1\" class=\"dataframe\">\n",
       "  <thead>\n",
       "    <tr style=\"text-align: right;\">\n",
       "      <th></th>\n",
       "      <th>Group</th>\n",
       "      <th>Customer_Segment</th>\n",
       "      <th>Sales_Before</th>\n",
       "      <th>Sales_After</th>\n",
       "      <th>Customer_Satisfaction_Before</th>\n",
       "      <th>Customer_Satisfaction_After</th>\n",
       "      <th>Purchase_Made</th>\n",
       "    </tr>\n",
       "  </thead>\n",
       "  <tbody>\n",
       "    <tr>\n",
       "      <th>0</th>\n",
       "      <td>Control</td>\n",
       "      <td>High Value</td>\n",
       "      <td>240.548359</td>\n",
       "      <td>300.007568</td>\n",
       "      <td>74.684767</td>\n",
       "      <td>NaN</td>\n",
       "      <td>No</td>\n",
       "    </tr>\n",
       "    <tr>\n",
       "      <th>1</th>\n",
       "      <td>Treatment</td>\n",
       "      <td>High Value</td>\n",
       "      <td>246.862114</td>\n",
       "      <td>381.337555</td>\n",
       "      <td>100.000000</td>\n",
       "      <td>100.000000</td>\n",
       "      <td>Yes</td>\n",
       "    </tr>\n",
       "    <tr>\n",
       "      <th>2</th>\n",
       "      <td>Control</td>\n",
       "      <td>High Value</td>\n",
       "      <td>156.978084</td>\n",
       "      <td>179.330464</td>\n",
       "      <td>98.780735</td>\n",
       "      <td>100.000000</td>\n",
       "      <td>No</td>\n",
       "    </tr>\n",
       "    <tr>\n",
       "      <th>3</th>\n",
       "      <td>Control</td>\n",
       "      <td>Medium Value</td>\n",
       "      <td>192.126708</td>\n",
       "      <td>229.278031</td>\n",
       "      <td>49.333766</td>\n",
       "      <td>39.811841</td>\n",
       "      <td>Yes</td>\n",
       "    </tr>\n",
       "    <tr>\n",
       "      <th>4</th>\n",
       "      <td>NaN</td>\n",
       "      <td>High Value</td>\n",
       "      <td>229.685623</td>\n",
       "      <td>NaN</td>\n",
       "      <td>83.974852</td>\n",
       "      <td>87.738591</td>\n",
       "      <td>Yes</td>\n",
       "    </tr>\n",
       "  </tbody>\n",
       "</table>\n",
       "</div>"
      ],
      "text/plain": [
       "       Group Customer_Segment  Sales_Before  Sales_After  \\\n",
       "0    Control       High Value    240.548359   300.007568   \n",
       "1  Treatment       High Value    246.862114   381.337555   \n",
       "2    Control       High Value    156.978084   179.330464   \n",
       "3    Control     Medium Value    192.126708   229.278031   \n",
       "4        NaN       High Value    229.685623          NaN   \n",
       "\n",
       "   Customer_Satisfaction_Before  Customer_Satisfaction_After Purchase_Made  \n",
       "0                     74.684767                          NaN            No  \n",
       "1                    100.000000                   100.000000           Yes  \n",
       "2                     98.780735                   100.000000            No  \n",
       "3                     49.333766                    39.811841           Yes  \n",
       "4                     83.974852                    87.738591           Yes  "
      ]
     },
     "execution_count": 22,
     "metadata": {},
     "output_type": "execute_result"
    }
   ],
   "source": [
    "data = pd.read_csv('Sales_data.csv') \n",
    "data.head() "
   ]
  },
  {
   "cell_type": "code",
   "execution_count": 23,
   "id": "2736cc5a",
   "metadata": {},
   "outputs": [
    {
     "data": {
      "text/plain": [
       "Group                           1401\n",
       "Customer_Segment                1966\n",
       "Sales_Before                    1522\n",
       "Sales_After                      767\n",
       "Customer_Satisfaction_Before    1670\n",
       "Customer_Satisfaction_After     1640\n",
       "Purchase_Made                    805\n",
       "dtype: int64"
      ]
     },
     "execution_count": 23,
     "metadata": {},
     "output_type": "execute_result"
    }
   ],
   "source": [
    "data.isnull().sum()  # Check for missing values"
   ]
  },
  {
   "cell_type": "code",
   "execution_count": 25,
   "id": "bea899e4",
   "metadata": {},
   "outputs": [
    {
     "data": {
      "text/html": [
       "<div>\n",
       "<style scoped>\n",
       "    .dataframe tbody tr th:only-of-type {\n",
       "        vertical-align: middle;\n",
       "    }\n",
       "\n",
       "    .dataframe tbody tr th {\n",
       "        vertical-align: top;\n",
       "    }\n",
       "\n",
       "    .dataframe thead th {\n",
       "        text-align: right;\n",
       "    }\n",
       "</style>\n",
       "<table border=\"1\" class=\"dataframe\">\n",
       "  <thead>\n",
       "    <tr style=\"text-align: right;\">\n",
       "      <th></th>\n",
       "      <th>Sales_Before</th>\n",
       "      <th>Sales_After</th>\n",
       "      <th>Customer_Satisfaction_Before</th>\n",
       "      <th>Customer_Satisfaction_After</th>\n",
       "    </tr>\n",
       "  </thead>\n",
       "  <tbody>\n",
       "    <tr>\n",
       "      <th>count</th>\n",
       "      <td>8478.000000</td>\n",
       "      <td>9233.000000</td>\n",
       "      <td>8330.000000</td>\n",
       "      <td>8360.000000</td>\n",
       "    </tr>\n",
       "    <tr>\n",
       "      <th>mean</th>\n",
       "      <td>203.716998</td>\n",
       "      <td>280.457952</td>\n",
       "      <td>70.252076</td>\n",
       "      <td>73.872593</td>\n",
       "    </tr>\n",
       "    <tr>\n",
       "      <th>std</th>\n",
       "      <td>55.273059</td>\n",
       "      <td>85.659543</td>\n",
       "      <td>16.957010</td>\n",
       "      <td>18.128351</td>\n",
       "    </tr>\n",
       "    <tr>\n",
       "      <th>min</th>\n",
       "      <td>24.852966</td>\n",
       "      <td>32.414352</td>\n",
       "      <td>22.202441</td>\n",
       "      <td>18.224938</td>\n",
       "    </tr>\n",
       "    <tr>\n",
       "      <th>25%</th>\n",
       "      <td>166.629232</td>\n",
       "      <td>221.436990</td>\n",
       "      <td>56.365513</td>\n",
       "      <td>59.925030</td>\n",
       "    </tr>\n",
       "    <tr>\n",
       "      <th>50%</th>\n",
       "      <td>203.323607</td>\n",
       "      <td>273.129170</td>\n",
       "      <td>69.490898</td>\n",
       "      <td>73.844594</td>\n",
       "    </tr>\n",
       "    <tr>\n",
       "      <th>75%</th>\n",
       "      <td>238.809147</td>\n",
       "      <td>332.570108</td>\n",
       "      <td>83.426798</td>\n",
       "      <td>90.044365</td>\n",
       "    </tr>\n",
       "    <tr>\n",
       "      <th>max</th>\n",
       "      <td>545.422547</td>\n",
       "      <td>818.219997</td>\n",
       "      <td>100.000000</td>\n",
       "      <td>100.000000</td>\n",
       "    </tr>\n",
       "  </tbody>\n",
       "</table>\n",
       "</div>"
      ],
      "text/plain": [
       "       Sales_Before  Sales_After  Customer_Satisfaction_Before  \\\n",
       "count   8478.000000  9233.000000                   8330.000000   \n",
       "mean     203.716998   280.457952                     70.252076   \n",
       "std       55.273059    85.659543                     16.957010   \n",
       "min       24.852966    32.414352                     22.202441   \n",
       "25%      166.629232   221.436990                     56.365513   \n",
       "50%      203.323607   273.129170                     69.490898   \n",
       "75%      238.809147   332.570108                     83.426798   \n",
       "max      545.422547   818.219997                    100.000000   \n",
       "\n",
       "       Customer_Satisfaction_After  \n",
       "count                  8360.000000  \n",
       "mean                     73.872593  \n",
       "std                      18.128351  \n",
       "min                      18.224938  \n",
       "25%                      59.925030  \n",
       "50%                      73.844594  \n",
       "75%                      90.044365  \n",
       "max                     100.000000  "
      ]
     },
     "execution_count": 25,
     "metadata": {},
     "output_type": "execute_result"
    }
   ],
   "source": [
    "data.describe()"
   ]
  },
  {
   "cell_type": "code",
   "execution_count": 34,
   "id": "25c3c49b",
   "metadata": {},
   "outputs": [
    {
     "data": {
      "text/plain": [
       "[]"
      ]
     },
     "execution_count": 34,
     "metadata": {},
     "output_type": "execute_result"
    },
    {
     "data": {
      "image/png": "[encoded data removed]",
      "text/plain": [
       "<Figure size 640x480 with 1 Axes>"
      ]
     },
     "metadata": {},
     "output_type": "display_data"
    }
   ],
   "source": [
    "sns.boxplot(x='Sales_Before', data=data)\n",
    "plt.plot()"
   ]
  },
  {
   "cell_type": "code",
   "execution_count": 35,
   "id": "3e001fc9",
   "metadata": {},
   "outputs": [
    {
     "data": {
      "text/plain": [
       "[]"
      ]
     },
     "execution_count": 35,
     "metadata": {},
     "output_type": "execute_result"
    },
    {
     "data": {
      "image/png": "[encoded data removed]",
      "text/plain": [
       "<Figure size 640x480 with 1 Axes>"
      ]
     },
     "metadata": {},
     "output_type": "display_data"
    }
   ],
   "source": [
    "sns.boxplot(x='Sales_After', data=data)\n",
    "plt.plot()"
   ]
  },
  {
   "cell_type": "markdown",
   "id": "9df64494",
   "metadata": {},
   "source": [
    "### ChatGPT Solution"
   ]
  },
  {
   "cell_type": "code",
   "execution_count": 47,
   "id": "4a7dbd15",
   "metadata": {},
   "outputs": [
    {
     "name": "stdout",
     "output_type": "stream",
     "text": [
      "IQR: 72.17991444070896, Q1: 166.6292324901437, Q3: 238.80914693085265\n"
     ]
    }
   ],
   "source": [
    "# Compute IQR\n",
    "Q1 = data['Sales_Before'].quantile(0.25)\n",
    "Q3 = data['Sales_Before'].quantile(0.75)\n",
    "IQR = Q3 - Q1\n",
    "print(f\"IQR: {IQR}, Q1: {Q1}, Q3: {Q3}\")"
   ]
  },
  {
   "cell_type": "code",
   "execution_count": 53,
   "id": "803deffb",
   "metadata": {},
   "outputs": [
    {
     "name": "stdout",
     "output_type": "stream",
     "text": [
      "Lower Bound: 58.35936082908026, Upper Bound: 347.0790185919161\n"
     ]
    }
   ],
   "source": [
    "# Define outlier bounds\n",
    "lower_bound = Q1 - 1.5 * IQR   # Minimum range/cap for the data\n",
    "upper_bound = Q3 + 1.5 * IQR   # Maximum range/cap for the data\n",
    "print(f\"Lower Bound: {lower_bound}, Upper Bound: {upper_bound}\")"
   ]
  },
  {
   "cell_type": "code",
   "execution_count": 49,
   "id": "2b26f5dc",
   "metadata": {},
   "outputs": [
    {
     "data": {
      "text/html": [
       "<div>\n",
       "<style scoped>\n",
       "    .dataframe tbody tr th:only-of-type {\n",
       "        vertical-align: middle;\n",
       "    }\n",
       "\n",
       "    .dataframe tbody tr th {\n",
       "        vertical-align: top;\n",
       "    }\n",
       "\n",
       "    .dataframe thead th {\n",
       "        text-align: right;\n",
       "    }\n",
       "</style>\n",
       "<table border=\"1\" class=\"dataframe\">\n",
       "  <thead>\n",
       "    <tr style=\"text-align: right;\">\n",
       "      <th></th>\n",
       "      <th>Group</th>\n",
       "      <th>Customer_Segment</th>\n",
       "      <th>Sales_Before</th>\n",
       "      <th>Sales_After</th>\n",
       "      <th>Customer_Satisfaction_Before</th>\n",
       "      <th>Customer_Satisfaction_After</th>\n",
       "      <th>Purchase_Made</th>\n",
       "    </tr>\n",
       "  </thead>\n",
       "  <tbody>\n",
       "    <tr>\n",
       "      <th>0</th>\n",
       "      <td>Control</td>\n",
       "      <td>High Value</td>\n",
       "      <td>240.548359</td>\n",
       "      <td>300.007568</td>\n",
       "      <td>74.684767</td>\n",
       "      <td>NaN</td>\n",
       "      <td>No</td>\n",
       "    </tr>\n",
       "    <tr>\n",
       "      <th>1</th>\n",
       "      <td>Treatment</td>\n",
       "      <td>High Value</td>\n",
       "      <td>246.862114</td>\n",
       "      <td>381.337555</td>\n",
       "      <td>100.000000</td>\n",
       "      <td>100.000000</td>\n",
       "      <td>Yes</td>\n",
       "    </tr>\n",
       "    <tr>\n",
       "      <th>2</th>\n",
       "      <td>Control</td>\n",
       "      <td>High Value</td>\n",
       "      <td>156.978084</td>\n",
       "      <td>179.330464</td>\n",
       "      <td>98.780735</td>\n",
       "      <td>100.000000</td>\n",
       "      <td>No</td>\n",
       "    </tr>\n",
       "    <tr>\n",
       "      <th>3</th>\n",
       "      <td>Control</td>\n",
       "      <td>Medium Value</td>\n",
       "      <td>192.126708</td>\n",
       "      <td>229.278031</td>\n",
       "      <td>49.333766</td>\n",
       "      <td>39.811841</td>\n",
       "      <td>Yes</td>\n",
       "    </tr>\n",
       "    <tr>\n",
       "      <th>4</th>\n",
       "      <td>NaN</td>\n",
       "      <td>High Value</td>\n",
       "      <td>229.685623</td>\n",
       "      <td>NaN</td>\n",
       "      <td>83.974852</td>\n",
       "      <td>87.738591</td>\n",
       "      <td>Yes</td>\n",
       "    </tr>\n",
       "  </tbody>\n",
       "</table>\n",
       "</div>"
      ],
      "text/plain": [
       "       Group Customer_Segment  Sales_Before  Sales_After  \\\n",
       "0    Control       High Value    240.548359   300.007568   \n",
       "1  Treatment       High Value    246.862114   381.337555   \n",
       "2    Control       High Value    156.978084   179.330464   \n",
       "3    Control     Medium Value    192.126708   229.278031   \n",
       "4        NaN       High Value    229.685623          NaN   \n",
       "\n",
       "   Customer_Satisfaction_Before  Customer_Satisfaction_After Purchase_Made  \n",
       "0                     74.684767                          NaN            No  \n",
       "1                    100.000000                   100.000000           Yes  \n",
       "2                     98.780735                   100.000000            No  \n",
       "3                     49.333766                    39.811841           Yes  \n",
       "4                     83.974852                    87.738591           Yes  "
      ]
     },
     "execution_count": 49,
     "metadata": {},
     "output_type": "execute_result"
    }
   ],
   "source": [
    "# Identify and remove outliers\n",
    "data['Outlier'] = data['Sales_Before'].apply(lambda x: 'Yes' if x < lower_bound or x > upper_bound else 'No')\n",
    "data_C = data[data['Outlier'] == 'No'].drop(columns=['Outlier'])\n",
    "data_C.head()"
   ]
  },
  {
   "cell_type": "code",
   "execution_count": 51,
   "id": "30d81334",
   "metadata": {},
   "outputs": [
    {
     "data": {
      "text/plain": [
       "[]"
      ]
     },
     "execution_count": 51,
     "metadata": {},
     "output_type": "execute_result"
    },
    {
     "data": {
      "image/png": "[encoded data removed]",
      "text/plain": [
       "<Figure size 640x480 with 1 Axes>"
      ]
     },
     "metadata": {},
     "output_type": "display_data"
    }
   ],
   "source": [
    "sns.boxplot(x='Sales_Before', data=data_C)\n",
    "plt.plot()"
   ]
  },
  {
   "cell_type": "markdown",
   "id": "c0c2dda6",
   "metadata": {},
   "source": [
    "### Youtube"
   ]
  },
  {
   "cell_type": "code",
   "execution_count": 54,
   "id": "a6afac80",
   "metadata": {},
   "outputs": [
    {
     "name": "stdout",
     "output_type": "stream",
     "text": [
      "IQR: 111.13311758709892, Q1: 221.43699016965093, Q3: 332.57010775674985\n"
     ]
    }
   ],
   "source": [
    "# Compute IQR\n",
    "Q1 = data['Sales_After'].quantile(0.25)\n",
    "Q3 = data['Sales_After'].quantile(0.75)\n",
    "IQR = Q3 - Q1\n",
    "print(f\"IQR: {IQR}, Q1: {Q1}, Q3: {Q3}\")"
   ]
  },
  {
   "cell_type": "code",
   "execution_count": 89,
   "id": "51fce627",
   "metadata": {},
   "outputs": [
    {
     "name": "stdout",
     "output_type": "stream",
     "text": [
      "54.73731378900254 165.87043137610146\n"
     ]
    }
   ],
   "source": [
    "# calculate the range \n",
    "min_Range = Q1 - (1.5 * IQR)\n",
    "max_Range = Q3 - (1.5 * IQR)\n",
    "print(min_Range, max_Range)"
   ]
  },
  {
   "cell_type": "code",
   "execution_count": 78,
   "id": "09cd92b3",
   "metadata": {},
   "outputs": [],
   "source": [
    "Data = data[data['Sales_After'] <= max_Range]"
   ]
  },
  {
   "cell_type": "code",
   "execution_count": 79,
   "id": "3384c393",
   "metadata": {},
   "outputs": [
    {
     "data": {
      "text/plain": [
       "[]"
      ]
     },
     "execution_count": 79,
     "metadata": {},
     "output_type": "execute_result"
    },
    {
     "data": {
      "image/png": "[encoded data removed]",
      "text/plain": [
       "<Figure size 640x480 with 1 Axes>"
      ]
     },
     "metadata": {},
     "output_type": "display_data"
    }
   ],
   "source": [
    "sns.boxplot(x='Sales_After', data=Data)\n",
    "plt.plot()"
   ]
  },
  {
   "cell_type": "code",
   "execution_count": 90,
   "id": "e87072fa",
   "metadata": {},
   "outputs": [],
   "source": [
    "Data_C = Data[Data['Sales_After'] > min_Range]"
   ]
  },
  {
   "cell_type": "code",
   "execution_count": 91,
   "id": "e4b95c74",
   "metadata": {},
   "outputs": [
    {
     "data": {
      "text/plain": [
       "[]"
      ]
     },
     "execution_count": 91,
     "metadata": {},
     "output_type": "execute_result"
    },
    {
     "data": {
      "image/png": "[encoded data removed]",
      "text/plain": [
       "<Figure size 640x480 with 1 Axes>"
      ]
     },
     "metadata": {},
     "output_type": "display_data"
    }
   ],
   "source": [
    "sns.boxplot(x='Sales_After', data=Data_C)\n",
    "plt.plot()"
   ]
  },
  {
   "cell_type": "code",
   "execution_count": null,
   "id": "2eabe134",
   "metadata": {},
   "outputs": [],
   "source": []
  }
 ],
 "metadata": {
  "kernelspec": {
   "display_name": "Python 3",
   "language": "python",
   "name": "python3"
  },
  "language_info": {
   "codemirror_mode": {
    "name": "ipython",
    "version": 3
   },
   "file_extension": ".py",
   "mimetype": "text/x-python",
   "name": "python",
   "nbconvert_exporter": "python",
   "pygments_lexer": "ipython3",
   "version": "3.13.5"
  }
 },
 "nbformat": 4,
 "nbformat_minor": 5
}
