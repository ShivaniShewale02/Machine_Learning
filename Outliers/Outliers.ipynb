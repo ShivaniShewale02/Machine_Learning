{
 "cells": [
  {
   "cell_type": "markdown",
   "metadata": {},
   "source": [
    "# Outliers in Machine Leanring"
   ]
  },
  {
   "cell_type": "markdown",
   "metadata": {},
   "source": [
    "- Outliers are data points that significantly differ from the majority of the data in a dataset. \n",
    "- They are often far removed from the typical distribution of the data and can have a large impact on statistical analyses and machine learning models."
   ]
  },
  {
   "cell_type": "markdown",
   "metadata": {},
   "source": [
    "## Outlier Detection Methods\n",
    "\n",
    "### 1. Visualization Techniques\n",
    "\n",
    "##### Box Plot\n",
    "- Highlights outliers as points outside the whiskers\n",
    "- Provides a clear visual representation of data distribution and extreme values\n",
    "`\n",
    "##### Scatter Plot\n",
    "- Useful for visualizing multivariate outliers\n",
    "- Helps identify patterns and anomalies in two-dimensional data\n",
    "\n",
    "##### Histogram\n",
    "- Shows skewness or extreme values in the data\n",
    "- Provides insights into data distribution and potential outliers\n",
    "\n",
    "### 2. Statistical Methods\n",
    "\n",
    "##### Z-Score (Standard Score)\n",
    "Measures how far a data point is from the mean, in terms of standard deviations.\n",
    "\n",
    "**Formula:**\n",
    "```\n",
    "Z = (X - μ) / σ\n",
    "```\n",
    "Where:\n",
    "- X is the data point\n",
    "- μ is the mean\n",
    "- σ is the standard deviation\n",
    "\n",
    "A typical threshold for detecting outliers is |Z| > 3.\n",
    "\n",
    "##### Interquartile Range (IQR)\n",
    "Outliers are defined as values below Q1 - 1.5 × IQR or above Q3 + 1.5 × IQR, where:\n",
    "\n",
    "- Q1: 25th percentile\n",
    "- Q3: 75th percentile\n",
    "- IQR: Q3 - Q1\n",
    "\n",
    "### 3. Machine Learning Methods\n",
    "\n",
    "##### Isolation Forest\n",
    "- Identifies outliers by randomly selecting features and splitting data recursively\n",
    "- Efficient for high-dimensional data\n",
    "- Works well with large datasets\n",
    "\n",
    "##### DBSCAN (Density-Based Clustering)\n",
    "- Detects outliers as points in low-density regions\n",
    "- Based on the density of data points\n",
    "- Can identify clusters of arbitrary shapes\n",
    "\n",
    "##### Autoencoders\n",
    "- Neural networks trained to reconstruct input data\n",
    "- Large reconstruction errors indicate outliers\n",
    "- Particularly effective for complex, high-dimensional data\n",
    "\n",
    "##### Local Outlier Factor (LOF)\n",
    "- Measures the local density of a data point compared to its neighbors\n",
    "- Considers the relative density of points\n",
    "- Effective for detecting outliers in varying density regions "
   ]
  },
  {
   "cell_type": "markdown",
   "metadata": {},
   "source": [
    "##### Why removing outliers are important ?\n",
    "- as due to outliers many of the models are unable to pridict accurate results & became bias as their results tends towards the outliers and which reduces the accuracy of the model."
   ]
  }
 ],
 "metadata": {
  "language_info": {
   "name": "python"
  }
 },
 "nbformat": 4,
 "nbformat_minor": 2
}
