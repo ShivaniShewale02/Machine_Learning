{
 "cells": [
  {
   "cell_type": "markdown",
   "id": "7ba44cb5",
   "metadata": {},
   "source": [
    "# Feature Construction in Machine Learning \n",
    "Feature Construction is a critical process in Machine Learning where you create new features from existing data to improve model performance. It leverages domain knowledge, data transformation, and creativity to reveal deeper patterns in the data."
   ]
  },
  {
   "cell_type": "markdown",
   "id": "63f3b44e",
   "metadata": {},
   "source": [
    "### What is Feature Construction?\n",
    "- Feature Construction is the process of deriving new meaningful features (also called attributes or variables) from existing raw data. These new features can make patterns easier to detect and relationships more linear or machine-readable.\n",
    "- It is a subset of feature engineering focused only on creating new features."
   ]
  },
  {
   "cell_type": "markdown",
   "id": "5d4472a3",
   "metadata": {},
   "source": [
    "##### Why Feature Construction?\n",
    "| Benefit                    | Description                                   |\n",
    "| -------------------------- | --------------------------------------------- |\n",
    "| 📈 Improves accuracy       | Captures hidden relationships                 |\n",
    "| 🧠 Adds domain insight     | Encodes expert knowledge                      |\n",
    "| 📊 Makes patterns explicit | Exposes non-obvious correlations              |\n",
    "| 🧪 Prepares for models     | Converts raw data into model-friendly formats |\n"
   ]
  },
  {
   "cell_type": "markdown",
   "id": "0fa9fb61",
   "metadata": {},
   "source": [
    "## Types of Feature Construction Techniques"
   ]
  },
  {
   "cell_type": "markdown",
   "id": "b2221cee",
   "metadata": {},
   "source": [
    "### 1. Mathematical Transformations\n",
    "Use arithmetic operations to create new features.\n",
    "\n",
    "🔧 Examples:\n",
    "- Total_Amount = Quantity * Price\n",
    "- Speed = Distance / Time\n",
    "- BMI = Weight / Height^2"
   ]
  },
  {
   "cell_type": "markdown",
   "id": "944e9a75",
   "metadata": {},
   "source": [
    "## 2. Date/Time Feature Extraction\n",
    "Extract valuable parts from datetime objects.\n",
    "\n",
    "Examples:\n",
    "- From 2025-06-25:\n",
    "- year = 2025\n",
    "- month = 6\n",
    "- day = 25\n",
    "- weekday = Wednesday\n",
    "- is_weekend = True/False\n",
    "- hour (from timestamps)\n",
    "- time_since_event = current_date - event_date\n"
   ]
  },
  {
   "cell_type": "code",
   "execution_count": null,
   "id": "1bdda622",
   "metadata": {},
   "outputs": [],
   "source": [
    "# Example In python \n",
    "df['year'] = pd.to_datetime(df['date']).dt.year\n",
    "df['is_weekend'] = df['date'].dt.dayofweek >= 5"
   ]
  },
  {
   "cell_type": "markdown",
   "id": "f462d3cd",
   "metadata": {},
   "source": [
    "## 3. Text Feature Construction (for NLP)\n",
    "Convert raw text into quantitative features.\n",
    "\n",
    "🔧 Examples:\n",
    "- Text Length\n",
    "- Number of words\n",
    "- Sentiment Score\n",
    "- TF-IDF / Bag of Words\n",
    "- Presence of keywords\n",
    "- N-grams"
   ]
  },
  {
   "cell_type": "code",
   "execution_count": null,
   "id": "fe300527",
   "metadata": {},
   "outputs": [],
   "source": [
    "# Example In Python\n",
    "df['text_length'] = df['review'].apply(lambda x: len(x.split()))"
   ]
  },
  {
   "cell_type": "markdown",
   "id": "49f3cd59",
   "metadata": {},
   "source": [
    "## 4. Categorical Feature Combination\n",
    "Combine multiple categorical variables into one.\n",
    "\n",
    "🔧 Examples:\n",
    "- Combine City and Product_Category → City_Product\n",
    "- Married + Gender → Married_Male, Married_Female, etc."
   ]
  },
  {
   "cell_type": "code",
   "execution_count": null,
   "id": "928aeab7",
   "metadata": {},
   "outputs": [],
   "source": [
    "# Example in Python\n",
    "df['location_type'] = df['city'] + \"_\" + df['shop_type']"
   ]
  },
  {
   "cell_type": "markdown",
   "id": "7d6d377e",
   "metadata": {},
   "source": [
    "## 5. Boolean or Flag Features\n",
    "Create binary flags to capture presence/absence of a condition.\n",
    "\n",
    "🔧 Examples:\n",
    "- is_high_income = income > 100000\n",
    "- has_discount = price < original_price\n",
    "- is_night = hour > 18"
   ]
  },
  {
   "cell_type": "markdown",
   "id": "3deb63d0",
   "metadata": {},
   "source": [
    "## 6. Aggregated/Grouped Features\n",
    "Generate features from group statistics (mean, max, count).\n",
    "\n",
    "🔧 Examples:\n",
    "- Customer_avg_purchase = total_spent / num_orders\n",
    "- Store_monthly_sales = sum(sales) per store per month"
   ]
  },
  {
   "cell_type": "code",
   "execution_count": null,
   "id": "fd34a087",
   "metadata": {},
   "outputs": [],
   "source": [
    "# Example in Python\n",
    "df['avg_purchase'] = df.groupby('customer_id')['amount'].transform('mean')"
   ]
  },
  {
   "cell_type": "markdown",
   "id": "45802781",
   "metadata": {},
   "source": [
    "## 7. Window/Rolling Features (Time Series)\n",
    "Create lag-based and rolling statistics over a time window.\n",
    "\n",
    "🔧 Examples:\n",
    "- Rolling mean of last 3 days\n",
    "- Lag values: sales_t-1, sales_t-2\n",
    "- Cumulative sum or difference"
   ]
  },
  {
   "cell_type": "code",
   "execution_count": null,
   "id": "3355fe2c",
   "metadata": {},
   "outputs": [],
   "source": [
    "# Example in Python\n",
    "df['rolling_mean'] = df['sales'].rolling(window=3).mean()\n",
    "df['lag_1'] = df['sales'].shift(1)"
   ]
  },
  {
   "cell_type": "markdown",
   "id": "e71a0c39",
   "metadata": {},
   "source": [
    "## 8. Binning / Bucketing Features\n",
    "Convert continuous data into categorical bins.\n",
    "\n",
    "🔧 Examples:\n",
    "- Age → Child, Adult, Senior\n",
    "- Income → Low, Medium, High"
   ]
  },
  {
   "cell_type": "code",
   "execution_count": null,
   "id": "02a7b4ee",
   "metadata": {},
   "outputs": [],
   "source": [
    "# Example in Python\n",
    "df['age_group'] = pd.cut(df['age'], bins=[0, 18, 60, 100], labels=[\"Child\", \"Adult\", \"Senior\"])"
   ]
  },
  {
   "cell_type": "markdown",
   "id": "074bc0b8",
   "metadata": {},
   "source": [
    "## 9. Ratio / Percentage Features\n",
    "Create proportions to normalize values.\n",
    "\n",
    "🔧 Examples:\n",
    "- CTR = clicks / impressions\n",
    "- Discount_Percent = (Original_Price - Sale_Price)/Original_Price\n"
   ]
  },
  {
   "cell_type": "markdown",
   "id": "950d2104",
   "metadata": {},
   "source": [
    "## 10. Domain-specific Feature Construction\n",
    "Based on knowledge of the domain you're working in.\n",
    "\n",
    "🔧 Examples:\n",
    "- In healthcare: BMI, Heart_Rate_Category\n",
    "- In finance: Debt-to-Income Ratio, Net Profit\n",
    "- In eCommerce: Conversion Rate, Avg Basket Size"
   ]
  }
 ],
 "metadata": {
  "kernelspec": {
   "display_name": "Python 3",
   "language": "python",
   "name": "python3"
  },
  "language_info": {
   "codemirror_mode": {
    "name": "ipython",
    "version": 3
   },
   "file_extension": ".py",
   "mimetype": "text/x-python",
   "name": "python",
   "nbconvert_exporter": "python",
   "pygments_lexer": "ipython3",
   "version": "3.13.5"
  }
 },
 "nbformat": 4,
 "nbformat_minor": 5
}
